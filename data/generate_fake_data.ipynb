{
  "cells": [
    {
      "cell_type": "code",
      "execution_count": 1,
      "metadata": {
        "colab": {
          "base_uri": "https://localhost:8080/"
        },
        "id": "5qcIaNqc1Ndn",
        "outputId": "a59618c6-8dda-4cfe-e90a-23051f730983"
      },
      "outputs": [
        {
          "name": "stdout",
          "output_type": "stream",
          "text": [
            "Collecting faker\n",
            "  Downloading Faker-19.6.2-py3-none-any.whl (1.7 MB)\n",
            "     ---------------------------------------- 1.7/1.7 MB 9.9 MB/s eta 0:00:00\n",
            "Requirement already satisfied: python-dateutil>=2.4 in c:\\users\\bhavy\\anaconda3\\lib\\site-packages (from faker) (2.8.2)\n",
            "Requirement already satisfied: six>=1.5 in c:\\users\\bhavy\\anaconda3\\lib\\site-packages (from python-dateutil>=2.4->faker) (1.16.0)\n",
            "Installing collected packages: faker\n",
            "Successfully installed faker-19.6.2\n"
          ]
        },
        {
          "name": "stderr",
          "output_type": "stream",
          "text": [
            "\n",
            "[notice] A new release of pip available: 22.3.1 -> 23.2.1\n",
            "[notice] To update, run: python.exe -m pip install --upgrade pip\n"
          ]
        }
      ],
      "source": [
        "!pip install faker"
      ]
    },
    {
      "cell_type": "code",
      "execution_count": 2,
      "metadata": {
        "colab": {
          "base_uri": "https://localhost:8080/"
        },
        "id": "vUEpx8Jfzx6U",
        "outputId": "990c948f-8bee-47af-92bd-bd18b2490a86"
      },
      "outputs": [
        {
          "name": "stdout",
          "output_type": "stream",
          "text": [
            "CSV file \"fake_data_with_initials.csv\" with 5000 rows has been generated.\n"
          ]
        }
      ],
      "source": [
        "import csv\n",
        "from faker import Faker\n",
        "\n",
        "fake = Faker()\n",
        "\n",
        "# Define the CSV file name and column headers\n",
        "csv_file = 'fake_data_with_initials.csv'\n",
        "fieldnames = ['name.firstName', 'name.lastName', 'age', 'address.line1', 'address.line2', 'address.city', 'address.state', 'gender']\n",
        "\n",
        "# Generate and write the data to the CSV file\n",
        "with open(csv_file, mode='w', newline='') as file:\n",
        "    writer = csv.DictWriter(file, fieldnames=fieldnames)\n",
        "\n",
        "    # Write the header row\n",
        "    writer.writeheader()\n",
        "\n",
        "    # Generate and write 5000 rows of fake data\n",
        "    for _ in range(5000):\n",
        "        first_name = fake.first_name()\n",
        "        last_name = fake.last_name()\n",
        "        row = {\n",
        "            'name.firstName': first_name,\n",
        "            'name.lastName': last_name,\n",
        "            'age': fake.random_int(min=18, max=80, step=1),\n",
        "            'address.line1': fake.street_address(),\n",
        "            'address.line2': fake.secondary_address(),\n",
        "            'address.city': fake.city(),\n",
        "            'address.state': fake.state_abbr(),\n",
        "            'gender': fake.random_element(elements=('Male', 'Female'))\n",
        "        }\n",
        "        writer.writerow(row)\n",
        "\n",
        "print(f'CSV file \"{csv_file}\" with 5000 rows has been generated.')\n"
      ]
    },
    {
      "cell_type": "code",
      "execution_count": null,
      "metadata": {
        "id": "o8olg5x31Q4d"
      },
      "outputs": [],
      "source": []
    }
  ],
  "metadata": {
    "colab": {
      "provenance": []
    },
    "kernelspec": {
      "display_name": "Python 3",
      "name": "python3"
    },
    "language_info": {
      "codemirror_mode": {
        "name": "ipython",
        "version": 3
      },
      "file_extension": ".py",
      "mimetype": "text/x-python",
      "name": "python",
      "nbconvert_exporter": "python",
      "pygments_lexer": "ipython3",
      "version": "3.9.13"
    }
  },
  "nbformat": 4,
  "nbformat_minor": 0
}
